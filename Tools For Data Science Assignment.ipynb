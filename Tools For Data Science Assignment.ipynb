{
 "cells": [
  {
   "cell_type": "markdown",
   "metadata": {},
   "source": [
    "<center>\n",
    "    <img src=\"https://s3-api.us-geo.objectstorage.softlayer.net/cf-courses-data/CognitiveClass/Logos/organization_logo/organization_logo.png\" width=\"300\" alt=\"cognitiveclass.ai logo\"  />\n",
    "</center>\n"
   ]
  },
  {
   "cell_type": "markdown",
   "metadata": {},
   "source": [
    "# My Jupyter Notebook on IBM Watson Studio\n",
    "\n",
    "**SHARON VIJAY**<br>Student<br><br>*I currently in 3rd year of my B.Tech Computer Science and Engineering. I love Data Science and it's applications.I love exploring datasets and performing Machine Learning Algorithms for extraction of Knowledge from it.*"
   ]
  },
  {
   "cell_type": "markdown",
   "metadata": {},
   "source": [
    "## Displaying Current Date and Time"
   ]
  },
  {
   "cell_type": "code",
   "execution_count": 1,
   "metadata": {},
   "outputs": [
    {
     "name": "stdout",
     "output_type": "stream",
     "text": [
      "Today's Date and Time is  2022-10-20 19:14:23.204418\n"
     ]
    }
   ],
   "source": [
    "import datetime \n",
    "message = \"Today's Date and Time is \" \n",
    "print (message , datetime.datetime.now() )"
   ]
  },
  {
   "cell_type": "markdown",
   "metadata": {},
   "source": [
    "## My Skills"
   ]
  },
  {
   "cell_type": "markdown",
   "metadata": {},
   "source": [
    "* html,css\n",
    "* JavaScript\n",
    "* NodeJs, ReactJs, ExpressJs\n",
    "* MongoDB, SQL\n",
    "* C, C++\n",
    "* python"
   ]
  },
  {
   "cell_type": "markdown",
   "metadata": {},
   "source": [
    "***"
   ]
  },
  {
   "cell_type": "markdown",
   "metadata": {},
   "source": [
    "## My Socail Media Handles"
   ]
  },
  {
   "cell_type": "markdown",
   "metadata": {},
   "source": [
    "1. <a href=\"https://github.com/sharonvijay\" target=\"_blank\">`github`</a><br>\n",
    "2. <a href=\"https://www.linkedin.com/in/sharon-vijay-t/\" target=\"_blank\">`LinkedIn`</a>"
   ]
  },
  {
   "cell_type": "markdown",
   "metadata": {},
   "source": [
    "***"
   ]
  },
  {
   "cell_type": "markdown",
   "metadata": {},
   "source": [
    "## My Favorite Online Learning Platform"
   ]
  },
  {
   "cell_type": "markdown",
   "metadata": {},
   "source": [
    "* Coursera https://www.coursera.org/\n",
    "* Udemy https://www.udemy.com/"
   ]
  },
  {
   "cell_type": "markdown",
   "metadata": {},
   "source": [
    "***"
   ]
  },
  {
   "cell_type": "code",
   "execution_count": 5,
   "metadata": {},
   "outputs": [
    {
     "data": {
      "text/html": [
       "<img src=\"https://www.fullstackpython.com/img/logos/markdown.png\" width=\"300\" height=\"300\"/>"
      ],
      "text/plain": [
       "<IPython.core.display.Image object>"
      ]
     },
     "execution_count": 5,
     "metadata": {},
     "output_type": "execute_result"
    }
   ],
   "source": [
    "from IPython.display import Image\n",
    "Image(url=\"https://www.fullstackpython.com/img/logos/markdown.png\" , width = 300, height = 300)"
   ]
  },
  {
   "cell_type": "markdown",
   "metadata": {},
   "source": [
    "***"
   ]
  },
  {
   "cell_type": "markdown",
   "metadata": {},
   "source": [
    "<br> <br>\n",
    "<table>\n",
    "<tr>\n",
    "<td>S.no</td>\n",
    "<td>Day</td>\n",
    "</tr>\n",
    "<tr>\n",
    "<td>1</td>\n",
    "<td>Monday</td>\n",
    "</tr>    \n",
    "<tr>\n",
    "<td>2</td>\n",
    "<td>Tuesday</td>\n",
    "</tr>   \n",
    "<tr>\n",
    "<td>3</td>\n",
    "<td>Wednesday</td>\n",
    "</tr>   \n",
    "<tr>\n",
    "<td>4</td>\n",
    "<td>Thursday</td>\n",
    "</tr>   \n",
    "<tr>\n",
    "<td>5</td>\n",
    "<td>Friday</td>\n",
    "</tr>   \n",
    "<tr>\n",
    "<td>6</td>\n",
    "<td>Saturday</td>\n",
    "</tr>   \n",
    "<tr>\n",
    "<td>7</td>\n",
    "<td>Sunday</td>\n",
    "</tr> \n",
    "</table>"
   ]
  },
  {
   "cell_type": "code",
   "execution_count": null,
   "metadata": {},
   "outputs": [],
   "source": []
  }
 ],
 "metadata": {
  "kernelspec": {
   "display_name": "Python",
   "language": "python",
   "name": "conda-env-python-py"
  },
  "language_info": {
   "codemirror_mode": {
    "name": "ipython",
    "version": 3
   },
   "file_extension": ".py",
   "mimetype": "text/x-python",
   "name": "python",
   "nbconvert_exporter": "python",
   "pygments_lexer": "ipython3",
   "version": "3.7.12"
  }
 },
 "nbformat": 4,
 "nbformat_minor": 4
}
